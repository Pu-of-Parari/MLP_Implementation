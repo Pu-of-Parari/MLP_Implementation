{
 "cells": [
  {
   "cell_type": "code",
   "execution_count": 1,
   "metadata": {},
   "outputs": [],
   "source": [
    "import pandas as pd\n",
    "import numpy as np\n",
    "from sklearn.neural_network import MLPClassifier\n",
    "from sklearn.externals import joblib\n",
    "from sklearn.model_selection import train_test_split\n",
    "\n",
    "from sklearn.metrics import confusion_matrix\n",
    "from sklearn.metrics import accuracy_score\n",
    "from sklearn.metrics import classification_report"
   ]
  },
  {
   "cell_type": "code",
   "execution_count": 4,
   "metadata": {},
   "outputs": [
    {
     "name": "stdout",
     "output_type": "stream",
     "text": [
      "             precision    recall  f1-score   support\n",
      "\n",
      "          0       0.97      0.97      0.97       738\n",
      "          1       0.92      0.95      0.93       765\n",
      "          2       0.97      0.94      0.95       747\n",
      "\n",
      "avg / total       0.95      0.95      0.95      2250\n",
      "\n",
      "accuracy: 0.9511111111111111\n",
      "confusion_matrix\n",
      " [[715  21   2]\n",
      " [ 22 725  18]\n",
      " [  2  45 700]]\n"
     ]
    }
   ],
   "source": [
    "# 学習用のデータを読み込み\n",
    "data = pd.read_csv(\"./task1.csv\", sep=\",\")\n",
    "train_data, test_data = train_test_split(data, test_size=0.15, shuffle=True)\n",
    "\n",
    "X = train_data.loc[:, ['x', 'y']]#.as_matrix()\n",
    "y = train_data['target']#.as_matrix()\n",
    "\n",
    "# 学習\n",
    "clf = MLPClassifier(hidden_layer_sizes=(20, 10,),alpha=True,random_state=0,max_iter=10000)\n",
    "clf.fit(X, y)\n",
    "\n",
    "# テスト用データ定義\n",
    "# 学習結果の検証（テスト用データx1, x2を入力）\n",
    "X_test = test_data.loc[:, ['x', 'y']]#.as_matrix()\n",
    "y_predict = clf.predict(X_test)\n",
    "y_label = test_data['target']\n",
    "\n",
    "# 検証結果の表示\n",
    "#print(\"検証結果：\", y_predict)\n",
    "#print(\"pred:\", y_predict, \"label:\", y_label)\n",
    "print(classification_report(np.hstack(y_label), np.hstack(y_predict)))\n",
    "print(\"accuracy:\", accuracy_score(y_label, y_predict))\n",
    "print(\"confusion_matrix\\n\",confusion_matrix(y_label, y_predict))"
   ]
  },
  {
   "cell_type": "code",
   "execution_count": null,
   "metadata": {},
   "outputs": [],
   "source": []
  }
 ],
 "metadata": {
  "kernelspec": {
   "display_name": "Environment (conda_py36)",
   "language": "python",
   "name": "conda_py36"
  },
  "language_info": {
   "codemirror_mode": {
    "name": "ipython",
    "version": 3
   },
   "file_extension": ".py",
   "mimetype": "text/x-python",
   "name": "python",
   "nbconvert_exporter": "python",
   "pygments_lexer": "ipython3",
   "version": "3.6.5"
  }
 },
 "nbformat": 4,
 "nbformat_minor": 2
}
