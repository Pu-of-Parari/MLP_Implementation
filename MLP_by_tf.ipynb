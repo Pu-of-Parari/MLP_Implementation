{
 "cells": [
  {
   "cell_type": "markdown",
   "metadata": {},
   "source": [
    "# MLP Implementation by TensorFlow"
   ]
  },
  {
   "cell_type": "code",
   "execution_count": 14,
   "metadata": {},
   "outputs": [],
   "source": [
    "from __future__ import absolute_import\n",
    "from __future__ import division\n",
    "from __future__ import print_function\n",
    "\n",
    "import tensorflow as tf\n",
    "\n",
    "import pandas as pd\n",
    "\n",
    "from sklearn.model_selection import train_test_split\n",
    "from sklearn import preprocessing\n",
    "from sklearn.preprocessing import OneHotEncoder"
   ]
  },
  {
   "cell_type": "code",
   "execution_count": 16,
   "metadata": {},
   "outputs": [],
   "source": [
    "def load_data():\n",
    "    df = pd.read_csv('./task1.csv',index_col=0)\n",
    "    train_set, test_set = train_test_split(df, test_size=0.15, shuffle=True)    #data divide\n",
    "\n",
    "    #train\n",
    "    X_train = train_set.values[:,:2]\n",
    "    #y_train = np.array([train_set.values[:,2]]).T\n",
    "    profession = train_set.values[:,2]\n",
    "    profession_enc = preprocessing.LabelEncoder().fit_transform(profession).reshape(-1,1)\n",
    "    y_train = OneHotEncoder().fit_transform(profession_enc).toarray()   #one-hot vectorize\n",
    "\n",
    "    #test\n",
    "    X_test = test_set.values[:,:2]\n",
    "    #y_test = np.array([test_set.values[:,2]]).T\n",
    "    profession = test_set.values[:,2]\n",
    "    profession_enc = preprocessing.LabelEncoder().fit_transform(profession).reshape(-1,1)\n",
    "    y_test = OneHotEncoder().fit_transform(profession_enc).toarray()    #one-hot vectorize\n",
    "\n",
    "\n",
    "    #print(len(X_train), len(y_train))\n",
    "    #print(len(X_test), len(y_test))\n",
    "\n",
    "    return X_train, y_train, X_test, y_test"
   ]
  },
  {
   "cell_type": "code",
   "execution_count": 4,
   "metadata": {},
   "outputs": [],
   "source": [
    "# Hidden Layer\n",
    "class HiddenLayer(object):\n",
    "    def __init__(self, input, n_in, n_out):\n",
    "        self.input = input\n",
    "\n",
    "        w_h = tf.Variable(tf.random_normal([n_in,n_out],mean=0.0,stddev=0.05))\n",
    "        b_h = tf.Variable(tf.zeros([n_out]))\n",
    "\n",
    "        self.w = w_h\n",
    "        self.b = b_h\n",
    "        self.params = [self.w, self.b]\n",
    "\n",
    "    def output(self):\n",
    "        linarg = tf.matmul(self.input, self.w) + self.b\n",
    "\n",
    "        #keep_prob = tf.placeholder(tf.float32)\n",
    "        #h_fc1_drop = tf.nn.dropout(h_fc1, keep_prob)\n",
    "\n",
    "        self.output = tf.nn.tanh(linarg)  # switch relu() to tanh()\n",
    "\n",
    "        return self.output"
   ]
  },
  {
   "cell_type": "code",
   "execution_count": 5,
   "metadata": {},
   "outputs": [],
   "source": [
    "# Output Layer\n",
    "class OutLayer(object):\n",
    "    def __init__(self, input, n_in, n_out):\n",
    "        self.input = input\n",
    "\n",
    "        w_o = tf.Variable(tf.random_normal([n_in,n_out],mean=0.0,stddev=0.05))\n",
    "        b_o = tf.Variable(tf.zeros([n_out]))\n",
    "\n",
    "        self.w = w_o\n",
    "        self.b = b_o\n",
    "        self.params = [self.w, self.b]\n",
    "\n",
    "    def output(self):\n",
    "        linarg = tf.matmul(self.input, self.w) + self.b\n",
    "        self.output = tf.nn.softmax(linarg)\n",
    "\n",
    "        return self.output"
   ]
  },
  {
   "cell_type": "code",
   "execution_count": 6,
   "metadata": {},
   "outputs": [],
   "source": [
    "# Create the model\n",
    "def mk_NN_model():\n",
    "    # Define network structure\n",
    "\n",
    "    h_layer1 = HiddenLayer(input=x, n_in=2, n_out=20)\n",
    "    #h_layer1_drop = tf.nn.dropout(h_layer1.output(), keep_prob)\n",
    "    h_layer2 = HiddenLayer(input=h_layer1.output(), n_in=20, n_out=10)\n",
    "    #h_layer2 = HiddenLayer(input=h_layer1_drop, n_in=20, n_out=10)\n",
    "    o_layer = OutLayer(input=h_layer2.output(), n_in=10, n_out=3)\n",
    "\n",
    "    # Cost Function basic term\n",
    "    out = o_layer.output()\n",
    "    cross_entropy = -tf.reduce_sum(y_*tf.log(out), name='xentropy')\n",
    "\n",
    "    # Regularization terms (weight decay)\n",
    "    L2_sqr = (tf.nn.l2_loss(h_layer1.w)\n",
    "              + tf.nn.l2_loss(h_layer2.w)\n",
    "              + tf.nn.l2_loss(o_layer.w))\n",
    "    lambda_2 = 0.01\n",
    "\n",
    "    # the loss and accuracy\n",
    "    loss = cross_entropy + lambda_2 * L2_sqr\n",
    "    correct_prediction = tf.equal(tf.argmax(out,1), tf.argmax(y_,1))\n",
    "    accuracy = tf.reduce_mean(tf.cast(correct_prediction, \"float\"))\n",
    "\n",
    "    return loss, accuracy"
   ]
  },
  {
   "cell_type": "code",
   "execution_count": 7,
   "metadata": {},
   "outputs": [
    {
     "name": "stdout",
     "output_type": "stream",
     "text": [
      "WARNING:tensorflow:From <ipython-input-7-eafa961451d0>:17 in <module>.: initialize_all_variables (from tensorflow.python.ops.variables) is deprecated and will be removed after 2017-03-02.\n",
      "Instructions for updating:\n",
      "Use `tf.global_variables_initializer` instead.\n",
      "Training...\n",
      "epoch 0 | acc: 0.05427451 \tloss: 13889.905\n",
      "epoch 1000 | acc: 0.948 \tloss: 2018.3586\n",
      "epoch 2000 | acc: 0.9500392 \tloss: 1842.8429\n",
      "epoch 3000 | acc: 0.9512941 \tloss: 1789.6332\n",
      "epoch 4000 | acc: 0.9516078 \tloss: 1769.9423\n",
      "epoch 5000 | acc: 0.951451 \tloss: 1757.1246\n",
      "epoch 6000 | acc: 0.9517647 \tloss: 1746.8024\n",
      "epoch 7000 | acc: 0.95215684 \tloss: 1737.8699\n",
      "epoch 8000 | acc: 0.9520784 \tloss: 1730.4807\n",
      "epoch 9000 | acc: 0.952 \tloss: 1724.4266\n",
      "epoch 10000 | acc: 0.95184314 \tloss: 1719.3022\n",
      "accuracy: 0.94133335\n"
     ]
    }
   ],
   "source": [
    "train_x, train_y, test_x, test_y = load_data()\n",
    "\n",
    "epoch = 10000\n",
    "\n",
    "# Variables\n",
    "x = tf.placeholder(\"float\", [None, 2])\n",
    "y_ = tf.placeholder(\"float\", [None, 3])\n",
    "\n",
    "loss, accuracy = mk_NN_model()\n",
    "loss_list = []\n",
    "acc_list = []\n",
    "keep_prob = tf.placeholder(tf.float32)\n",
    "# Train\n",
    "optimizer = tf.train.AdagradOptimizer(0.01)\n",
    "train_op = optimizer.minimize(loss)\n",
    "\n",
    "init = tf.initialize_all_variables()\n",
    "\n",
    "with tf.Session() as sess:\n",
    "    sess.run(init)\n",
    "    print('Training...')\n",
    "    for i in range(epoch + 1):\n",
    "        train_op.run({x: train_x, y_: train_y})\n",
    "        loss_list.append(loss.eval({x:train_x, y_: train_y}))\n",
    "        acc_list.append(accuracy.eval({x: train_x, y_: train_y}))\n",
    "        if i % 1000 == 0:                # echo status on screen\n",
    "            train_accuracy = accuracy.eval({x: train_x, y_: train_y})\n",
    "            train_loss = loss.eval({x:train_x, y_: train_y})\n",
    "            print(\"epoch\",i,\"| acc:\", train_accuracy,\"\\tloss:\", train_loss)\n",
    "\n",
    "    # Test trained model\n",
    "    print(\"accuracy:\", accuracy.eval({x: test_x, y_: test_y}))"
   ]
  },
  {
   "cell_type": "code",
   "execution_count": 12,
   "metadata": {},
   "outputs": [
    {
     "data": {
      "image/png": "[encoded data removed]",
      "text/plain": [
       "<Figure size 432x288 with 1 Axes>"
      ]
     },
     "metadata": {},
     "output_type": "display_data"
    },
    {
     "data": {
      "image/png": "[encoded data removed]",
      "text/plain": [
       "<Figure size 432x288 with 1 Axes>"
      ]
     },
     "metadata": {},
     "output_type": "display_data"
    }
   ],
   "source": [
    "#drow loss & accuracy curve\n",
    "import matplotlib.pyplot as plt\n",
    "\n",
    "plt.title(\"loss\")\n",
    "plt.xlabel(\"epoch\")\n",
    "plt.ylabel(\"loss\")\n",
    "plt.plot(loss_list)\n",
    "plt.show()\n",
    "\n",
    "plt.title(\"accuracy\")\n",
    "plt.xlabel(\"epoch\")\n",
    "plt.ylabel(\"acc\")\n",
    "plt.plot(acc_list)\n",
    "plt.show()"
   ]
  },
  {
   "cell_type": "code",
   "execution_count": null,
   "metadata": {},
   "outputs": [],
   "source": []
  }
 ],
 "metadata": {
  "kernelspec": {
   "display_name": "Environment (conda_py36)",
   "language": "python",
   "name": "conda_py36"
  },
  "language_info": {
   "codemirror_mode": {
    "name": "ipython",
    "version": 3
   },
   "file_extension": ".py",
   "mimetype": "text/x-python",
   "name": "python",
   "nbconvert_exporter": "python",
   "pygments_lexer": "ipython3",
   "version": "3.6.5"
  }
 },
 "nbformat": 4,
 "nbformat_minor": 2
}
